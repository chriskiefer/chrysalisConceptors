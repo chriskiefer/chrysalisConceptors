{
 "cells": [
  {
   "cell_type": "code",
   "execution_count": null,
   "metadata": {
    "collapsed": true
   },
   "outputs": [],
   "source": [
    "%pylab inline\n",
    "import scipy as sp\n",
    "from numba import jit\n",
    "import os"
   ]
  },
  {
   "cell_type": "code",
   "execution_count": null,
   "metadata": {
    "collapsed": true
   },
   "outputs": [],
   "source": [
    "## load the conceptors code\n",
    "%run python/conceptors.py"
   ]
  },
  {
   "cell_type": "code",
   "execution_count": null,
   "metadata": {
    "collapsed": true
   },
   "outputs": [],
   "source": [
    "# get current working path\n",
    "cwd = os.getcwd()\n",
    "print( cwd )\n",
    "\n",
    "# load the network that we have saved before\n",
    "# net = loadObject( cwd + \"/models/generator_1505238661.223747.pickled\" )\n",
    "# net = loadObject( cwd + \"/models/generator_1505299791.345897.pickled\" )\n",
    "net = loadObject( cwd + \"/models/generator_1505307036.51016.pickled\" )\n"
   ]
  },
  {
   "cell_type": "code",
   "execution_count": null,
   "metadata": {
    "collapsed": true
   },
   "outputs": [],
   "source": [
    "state = createGeneratorState( net )"
   ]
  },
  {
   "cell_type": "code",
   "execution_count": null,
   "metadata": {
    "collapsed": true
   },
   "outputs": [],
   "source": [
    "state = iterateGenerator(net, state, np.array([0.0, 1.0]), 1.0, 1.0)\n",
    "state['output'][0]\n"
   ]
  },
  {
   "cell_type": "code",
   "execution_count": null,
   "metadata": {
    "collapsed": true
   },
   "outputs": [],
   "source": [
    "## load the functions for receiving and sending osc\n",
    "%run python/oscserver.py\n",
    "\n",
    "exciteValue = 1.0\n",
    "morphValues = np.array([0.0, 1.0, 0.0])\n",
    "leakRate = 1.0\n",
    "\n",
    "def onSpectral(ind,f):\n",
    "    global exciteValue\n",
    "    exciteValue = f\n",
    "    return True\n",
    "\n",
    "def onLeakrate(ind,f):\n",
    "    global leakRate\n",
    "    leakRate = f\n",
    "    return True\n",
    "\n",
    "def onMorph(ind,f):\n",
    "    global morphValues\n",
    "    morphValues[ind] = f\n",
    "    return True\n",
    "\n",
    "def onExit():\n",
    "    print( \"exiting\" )\n",
    "    global keepRunning\n",
    "    keepRunning = False\n",
    "    oscserver.free()\n",
    "    return True\n",
    "\n",
    "oscserver = makeOSCServer(57120, 57400, onExit)\n",
    "oscserver.onMorph = onMorph\n",
    "oscserver.onSpectral = onSpectral\n",
    "oscserver.onLeakrate = onLeakrate\n",
    "\n",
    "oscserver.start()"
   ]
  },
  {
   "cell_type": "code",
   "execution_count": null,
   "metadata": {
    "collapsed": true
   },
   "outputs": [],
   "source": [
    "import time\n",
    "\n",
    "keepRunning = True\n",
    "\n",
    "while keepRunning:\n",
    "#     print( morphValues )\n",
    "    # net 1\n",
    "    state = iterateGenerator(net, state, morphValues, exciteValue, leakRate )\n",
    "    \n",
    "    oscserver.send_value( \"/output\", state['output'][0] )\n",
    "    oscserver.send_array( \"/x/PG\", state['x'].flatten() )\n",
    "    \n",
    "    time.sleep(1 / 10.)\n",
    "    "
   ]
  },
  {
   "cell_type": "code",
   "execution_count": null,
   "metadata": {
    "collapsed": true
   },
   "outputs": [],
   "source": [
    "\n",
    "# oscserver.free()"
   ]
  }
 ],
 "metadata": {
  "kernelspec": {
   "display_name": "Python 3",
   "language": "python",
   "name": "python3"
  },
  "language_info": {
   "codemirror_mode": {
    "name": "ipython",
    "version": 3
   },
   "file_extension": ".py",
   "mimetype": "text/x-python",
   "name": "python",
   "nbconvert_exporter": "python",
   "pygments_lexer": "ipython3",
   "version": "3.6.1"
  }
 },
 "nbformat": 4,
 "nbformat_minor": 2
}
