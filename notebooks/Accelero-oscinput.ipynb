{
 "cells": [
  {
   "cell_type": "code",
   "execution_count": null,
   "metadata": {},
   "outputs": [],
   "source": [
    "## load the functions for receiving and sending osc\n",
    "%run ../python/oscserver.py\n",
    "\n",
    "inputValues = [ 0, 0, 0 ]\n",
    "\n",
    "def onAccelero(args):\n",
    "    global inputValues\n",
    "    print( args )\n",
    "    inputValues = args\n",
    "    return True\n",
    "\n",
    "def onExit():\n",
    "    print( \"exiting\" )\n",
    "    global keepRunning\n",
    "    keepRunning = False\n",
    "    oscserver.free()\n",
    "    return True\n",
    "\n",
    "oscserver = makeOSCServer(57120, 57402, onExit)\n",
    "oscserver.onAccelero = onAccelero\n",
    "\n",
    "oscserver.start()"
   ]
  },
  {
   "cell_type": "code",
   "execution_count": null,
   "metadata": {},
   "outputs": [],
   "source": [
    "import time\n",
    "\n",
    "keepRunning = True\n",
    "\n",
    "# create an initial state for the net\n",
    "#state = createState(net)\n",
    "\n",
    "while keepRunning:\n",
    "#     iterateClassifier( net, state, inputValues)\n",
    "    \n",
    "#     oscserver.send_array( \"/x/CL\", state['x'].flatten() )\n",
    "    \n",
    "#     oscserver.send_array( \"/evidence\", state['evidence'] ) \n",
    "    oscserver.send_array( \"/inputvalues\", inputValues )\n",
    "    time.sleep(0.033)\n"
   ]
  },
  {
   "cell_type": "code",
   "execution_count": null,
   "metadata": {
    "collapsed": true
   },
   "outputs": [],
   "source": []
  }
 ],
 "metadata": {
  "kernelspec": {
   "display_name": "Python 3",
   "language": "python",
   "name": "python3"
  },
  "language_info": {
   "codemirror_mode": {
    "name": "ipython",
    "version": 3
   },
   "file_extension": ".py",
   "mimetype": "text/x-python",
   "name": "python",
   "nbconvert_exporter": "python",
   "pygments_lexer": "ipython3",
   "version": "3.5.2"
  }
 },
 "nbformat": 4,
 "nbformat_minor": 2
}
